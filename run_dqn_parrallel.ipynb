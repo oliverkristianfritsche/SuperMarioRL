{
 "cells": [
  {
   "cell_type": "code",
   "execution_count": 1,
   "metadata": {},
   "outputs": [],
   "source": [
    "\n",
    "import torch"
   ]
  },
  {
   "cell_type": "code",
   "execution_count": 2,
   "metadata": {},
   "outputs": [
    {
     "name": "stderr",
     "output_type": "stream",
     "text": [
      "UserWarning: Using SDL2 binaries from pysdl2-dll 2.30.0\n"
     ]
    }
   ],
   "source": [
    "from agents.DQNagent import *\n",
    "from agents.PPOagent import *\n",
    "from gameboy_env import *\n",
    "import sys\n",
    "sys.path.append('models')\n",
    "from models.dqn import *"
   ]
  },
  {
   "cell_type": "code",
   "execution_count": 3,
   "metadata": {},
   "outputs": [
    {
     "name": "stdout",
     "output_type": "stream",
     "text": [
      "True\n",
      "All workers have completed their training.\n"
     ]
    }
   ],
   "source": [
    "print(torch.cuda.is_available())\n",
    "def train_agent(worker_id, episodes, config_params):\n",
    "    # Initialize environment, agent, and config here using config_params\n",
    "    env = GameBoyEnv(\"roms/Super Mario Land (JUE) (V1.1) [!].gb\", observation_shape=(84,84), window_type=\"human\")\n",
    "    config = Config(env, DQN, DQN, **config_params)\n",
    "    agent = DQNAgent(config)\n",
    "    \n",
    "    # Training the agent\n",
    "    agent.train(episodes, discount_step_interval=300, reward_discount_factor=.989)\n",
    "    print(f\"Worker {worker_id} finished training.\")\n",
    "\n",
    "from multiprocessing import Process\n",
    "\n",
    "# Define the number of processes/workers you want to run in parallel\n",
    "num_workers = 2  # For example, running 4 parallel training sessions\n",
    "episodes_per_worker = 7500  # Total episodes for each worker\n",
    "\n",
    "# Configuration parameters that are common across workers, could be adjusted per worker if needed\n",
    "config_params1 = {\n",
    "    \"checkpoint_subfolder\": \"limited_rom_encoder_3dof_lineardecay_bs32\",\n",
    "    \"epsilon\": .92,\n",
    "    \"batch_size\": 32,\n",
    "    \"n_ticks_to_skip\": 3\n",
    "}\n",
    "\n",
    "config_params2 = {\n",
    "    \"checkpoint_subfolder\": \"limited_rom_encoder_3dof_lineardecay_bs64\",\n",
    "    \"epsilon\": 1,\n",
    "    \"batch_size\": 64,\n",
    "    \"n_ticks_to_skip\": 3\n",
    "}\n",
    "\n",
    "# Create and start a process for each worker\n",
    "processes = []\n",
    "for worker_id in range(num_workers):\n",
    "    # Determine the configuration parameters based on worker_id\n",
    "    config_params = config_params1 if worker_id % 2 == 0 else config_params2\n",
    "    \n",
    "    # Create and start the process with the selected configuration\n",
    "    p = Process(target=train_agent, args=(worker_id, episodes_per_worker, config_params))\n",
    "    processes.append(p)\n",
    "    p.start()\n",
    "\n",
    "# Wait for all processes to complete\n",
    "for p in processes:\n",
    "    p.join()\n",
    "\n",
    "\n",
    "print(\"All workers have completed their training.\")\n"
   ]
  },
  {
   "cell_type": "code",
   "execution_count": null,
   "metadata": {},
   "outputs": [],
   "source": []
  }
 ],
 "metadata": {
  "kernelspec": {
   "display_name": "Python 3",
   "language": "python",
   "name": "python3"
  },
  "language_info": {
   "codemirror_mode": {
    "name": "ipython",
    "version": 3
   },
   "file_extension": ".py",
   "mimetype": "text/x-python",
   "name": "python",
   "nbconvert_exporter": "python",
   "pygments_lexer": "ipython3",
   "version": "3.12.0"
  }
 },
 "nbformat": 4,
 "nbformat_minor": 2
}
